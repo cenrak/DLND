{
 "cells": [
  {
   "cell_type": "markdown",
   "metadata": {},
   "source": [
    "# First Neural Network example by Siraj\n",
    "*02 Neural Network - 02 Siraj's Neural Network - 02 How to make a neural network*\n",
    "\n",
    "Building a neural network to find XOR of 2 inputs. \n",
    "\n",
    "**IMPORTANT NOTE**: `np.array([1,2,3,4]).T` is getting the transpose of a *1D* array, which is always the same. To get the transpose of `np.array([1,2,3,4])`, just add another brackets to make it a *2D* array, as such, `np.array([[1,2,3,4]]).T`\n"
   ]
  },
  {
   "cell_type": "code",
   "execution_count": 1,
   "metadata": {
    "collapsed": true
   },
   "outputs": [],
   "source": [
    "import numpy as np"
   ]
  },
  {
   "cell_type": "code",
   "execution_count": 113,
   "metadata": {
    "collapsed": true
   },
   "outputs": [],
   "source": [
    "class NeuralNetwork():\n",
    "    def __init__(self):\n",
    "        # Seed so the random values are always the same.\n",
    "        np.random.seed(1)\n",
    "        \n",
    "        # 2 inputs + 1 bias\n",
    "        # Synaptic weights are uniformally distributed betweem -1 and 1\n",
    "        self.synaptic_weights = 2 * np.random.random((3,1)) - 1\n",
    "    \n",
    "    def train(self, inputs, outputs, epochs):\n",
    "        for i in range(epochs):\n",
    "            output = self.think(inputs)\n",
    "            error = outputs - output\n",
    "            adjustment = np.dot(inputs.T, error * self.sigmoid_deriv(output))\n",
    "            self.synaptic_weights += adjustment\n",
    "            \n",
    "    def think(self, inputs):\n",
    "        return self.sigmoid( inputs.dot(self.synaptic_weights) )\n",
    "    \n",
    "    def sigmoid(self, x):\n",
    "        return 1 / ( 1 + np.exp(-x) )\n",
    "    \n",
    "    def sigmoid_deriv(self, x):\n",
    "        return x * ( 1 - x )"
   ]
  },
  {
   "cell_type": "code",
   "execution_count": 114,
   "metadata": {
    "collapsed": false
   },
   "outputs": [
    {
     "name": "stdout",
     "output_type": "stream",
     "text": [
      "Random starting synaptic weights:\n",
      "[[-0.16595599  0.44064899 -0.99977125]]\n"
     ]
    }
   ],
   "source": [
    "neural_network = NeuralNetwork()\n",
    "print('Random starting synaptic weights:')\n",
    "print(neural_network.synaptic_weights.T)"
   ]
  },
  {
   "cell_type": "code",
   "execution_count": 115,
   "metadata": {
    "collapsed": false
   },
   "outputs": [],
   "source": [
    "training_input = np.array([[0,0,1], [1,1,1], [1,0,1], [0,1,1]])\n",
    "training_output = np.array([[0,1,1,0]]).T"
   ]
  },
  {
   "cell_type": "code",
   "execution_count": 116,
   "metadata": {
    "collapsed": false
   },
   "outputs": [],
   "source": [
    "neural_network.train(training_input, training_output, 10000)"
   ]
  },
  {
   "cell_type": "code",
   "execution_count": 117,
   "metadata": {
    "collapsed": false
   },
   "outputs": [
    {
     "name": "stdout",
     "output_type": "stream",
     "text": [
      "Random ending synaptic weights:\n",
      "[[ 9.67299303 -0.2078435  -4.62963669]]\n"
     ]
    }
   ],
   "source": [
    "print('Random ending synaptic weights:')\n",
    "print(neural_network.synaptic_weights.T)"
   ]
  },
  {
   "cell_type": "code",
   "execution_count": null,
   "metadata": {
    "collapsed": true
   },
   "outputs": [],
   "source": []
  }
 ],
 "metadata": {
  "kernelspec": {
   "display_name": "Python 3",
   "language": "python",
   "name": "python3"
  },
  "language_info": {
   "codemirror_mode": {
    "name": "ipython",
    "version": 3
   },
   "file_extension": ".py",
   "mimetype": "text/x-python",
   "name": "python",
   "nbconvert_exporter": "python",
   "pygments_lexer": "ipython3",
   "version": "3.6.0"
  }
 },
 "nbformat": 4,
 "nbformat_minor": 2
}
