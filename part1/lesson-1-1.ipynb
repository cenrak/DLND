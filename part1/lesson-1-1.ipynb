{
 "cells": [
  {
   "cell_type": "markdown",
   "metadata": {},
   "source": [
    "# Simple XOR example \n",
    "This example is part of Siraj's video in *Neural Network* section,* Lesson 1*. It's a short [video](https://www.youtube.com/watch?v=N4gDikiec8E) and he quickly explains how this stuff works. \n",
    "[This Github rpeo](https://github.com/llSourcell/how_to_do_math_for_deep_learning/blob/master/demo.ipynb) contains the code and jupyter notebook\n"
   ]
  },
  {
   "cell_type": "code",
   "execution_count": 25,
   "metadata": {
    "collapsed": true
   },
   "outputs": [],
   "source": [
    "import numpy as np"
   ]
  },
  {
   "cell_type": "code",
   "execution_count": 26,
   "metadata": {},
   "outputs": [],
   "source": [
    "#Step 1: collect data. Last input is the bias \n",
    "x = np.array([[0,0,1], [0,1,1], [1,0,1], [1,1,1]])\n",
    "y = np.array([0,1,1,0]).reshape(4,1)"
   ]
  },
  {
   "cell_type": "code",
   "execution_count": 27,
   "metadata": {},
   "outputs": [
    {
     "name": "stdout",
     "output_type": "stream",
     "text": [
      "[[0 0 1]\n",
      " [0 1 1]\n",
      " [1 0 1]\n",
      " [1 1 1]]\n"
     ]
    }
   ],
   "source": [
    "print(x)"
   ]
  },
  {
   "cell_type": "code",
   "execution_count": 28,
   "metadata": {},
   "outputs": [
    {
     "name": "stdout",
     "output_type": "stream",
     "text": [
      "[[0]\n",
      " [1]\n",
      " [1]\n",
      " [0]]\n"
     ]
    }
   ],
   "source": [
    "print(y)"
   ]
  },
  {
   "cell_type": "code",
   "execution_count": 29,
   "metadata": {},
   "outputs": [],
   "source": [
    "# Step 2: Build the model\n",
    "\n",
    "num_epochs = 60000\n",
    "\n",
    "# initialize weights to random values between -1 and 1\n",
    "\"\"\"\n",
    "What we need is to have 3 input, forward propagated to 4 neurons, \n",
    "then it gives just 1 output\n",
    "\"\"\"\n",
    "syn0 = 2 * np.random.random((3,4)) - 1\n",
    "syn1 = 2 * np.random.random((4,1)) - 1"
   ]
  },
  {
   "cell_type": "code",
   "execution_count": 30,
   "metadata": {
    "collapsed": true
   },
   "outputs": [],
   "source": [
    "def nonlin(x, deriv=False):\n",
    "    if deriv == True: return x * (1-x)\n",
    "    return 1/(1+np.exp(-x))"
   ]
  },
  {
   "cell_type": "code",
   "execution_count": 31,
   "metadata": {},
   "outputs": [
    {
     "name": "stdout",
     "output_type": "stream",
     "text": [
      "Error: 0.501143956957\n",
      "Error: 0.0109026600577\n",
      "Error: 0.00720089018186\n",
      "Error: 0.00568509353791\n",
      "Error: 0.00481989312171\n",
      "Error: 0.00424654611513\n"
     ]
    }
   ],
   "source": [
    "# Step 3: Train model\n",
    "for j in range(num_epochs):\n",
    "    k0 = x\n",
    "    k1 = nonlin(np.dot(k0, syn0))\n",
    "    k2 = nonlin(np.dot(k1, syn1))\n",
    "    \n",
    "    k2_error = y - k2\n",
    "    \n",
    "    if j % 10000 == 0:\n",
    "        print('Error: ' + str(np.mean(np.abs(k2_error))))\n",
    "        \n",
    "    k2_delta = k2_error * nonlin(k2, deriv=True)\n",
    "    \n",
    "    k1_error = k2_delta.dot(syn1.T)\n",
    "    \n",
    "    k1_delta = k1_error * nonlin(k1, deriv=True)\n",
    "    \n",
    "    syn1 += k1.T.dot(k2_delta)\n",
    "    syn0 += k0.T.dot(k1_delta)\n",
    "    "
   ]
  },
  {
   "cell_type": "code",
   "execution_count": null,
   "metadata": {
    "collapsed": true
   },
   "outputs": [],
   "source": []
  }
 ],
 "metadata": {
  "kernelspec": {
   "display_name": "Python 3",
   "language": "python",
   "name": "python3"
  },
  "language_info": {
   "codemirror_mode": {
    "name": "ipython",
    "version": 3
   },
   "file_extension": ".py",
   "mimetype": "text/x-python",
   "name": "python",
   "nbconvert_exporter": "python",
   "pygments_lexer": "ipython3",
   "version": "3.6.1"
  }
 },
 "nbformat": 4,
 "nbformat_minor": 2
}
